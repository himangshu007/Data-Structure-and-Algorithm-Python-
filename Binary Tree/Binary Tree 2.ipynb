{
 "cells": [
  {
   "cell_type": "markdown",
   "metadata": {},
   "source": [
    "## Creating a Binary tree"
   ]
  },
  {
   "cell_type": "code",
   "execution_count": 2,
   "metadata": {},
   "outputs": [],
   "source": [
    "class BinaryTreeNode:\n",
    "    def __init__(self,data):\n",
    "        self.data = data\n",
    "        self.left = None\n",
    "        self.right = None"
   ]
  },
  {
   "cell_type": "code",
   "execution_count": 3,
   "metadata": {},
   "outputs": [],
   "source": [
    "bt1 = BinaryTreeNode(1)\n",
    "bt2 = BinaryTreeNode(2)\n",
    "bt3 = BinaryTreeNode(3)\n",
    "bt4 = BinaryTreeNode(4)\n",
    "bt5 = BinaryTreeNode(5)"
   ]
  },
  {
   "cell_type": "code",
   "execution_count": 4,
   "metadata": {},
   "outputs": [],
   "source": [
    "bt1.left = bt2 \n",
    "bt1.right = bt3\n",
    "bt2.left = bt4\n",
    "bt2.right = bt5"
   ]
  },
  {
   "cell_type": "code",
   "execution_count": 5,
   "metadata": {},
   "outputs": [],
   "source": [
    "def printTree(root):\n",
    "    if root == None:\n",
    "        return \n",
    "    print(root.data , end= ':')\n",
    "    if root.left != None:\n",
    "        print(\"L\",root.left.data,end=\",\")\n",
    "    if root.right !=None:\n",
    "        print(\"R\",root.right.data , end=\"\")\n",
    "    print()\n",
    "    printTree(root.left)\n",
    "    printTree(root.right)"
   ]
  },
  {
   "cell_type": "code",
   "execution_count": 6,
   "metadata": {},
   "outputs": [
    {
     "name": "stdout",
     "output_type": "stream",
     "text": [
      "1:L 2,R 3\n",
      "2:L 4,R 5\n",
      "4:\n",
      "5:\n",
      "3:\n"
     ]
    }
   ],
   "source": [
    "printTree(bt1)"
   ]
  },
  {
   "cell_type": "markdown",
   "metadata": {},
   "source": [
    "## Check if the tree is balanced or not"
   ]
  },
  {
   "cell_type": "code",
   "execution_count": 7,
   "metadata": {},
   "outputs": [],
   "source": [
    "def height(root):\n",
    "    if root == None:\n",
    "        return 0\n",
    "    return 1+max(height(root.left),height(root.right))"
   ]
  },
  {
   "cell_type": "code",
   "execution_count": 8,
   "metadata": {},
   "outputs": [],
   "source": [
    "def isBalanced(root):\n",
    "    if root==None:\n",
    "        return True\n",
    "    lh = height(root.left)\n",
    "    rh = height(root.right)\n",
    "    if(lh - rh)>1 or (rh-lh)>1:\n",
    "        return False\n",
    "    isLeftBalanced = isBalanced(root.left)\n",
    "    isRightBalanced = isBalanced(root.right)\n",
    "    if isLeftBalanced and isRightBalanced:\n",
    "        return True\n",
    "    else:\n",
    "        return False"
   ]
  },
  {
   "cell_type": "code",
   "execution_count": 9,
   "metadata": {},
   "outputs": [
    {
     "data": {
      "text/plain": [
       "True"
      ]
     },
     "execution_count": 9,
     "metadata": {},
     "output_type": "execute_result"
    }
   ],
   "source": [
    "isBalanced(bt1)"
   ]
  },
  {
   "cell_type": "markdown",
   "metadata": {},
   "source": [
    "##   Check if the tree is balanced or not(Optimized)"
   ]
  },
  {
   "cell_type": "code",
   "execution_count": 10,
   "metadata": {},
   "outputs": [],
   "source": [
    "def getHeightAndIsBalanced(root):\n",
    "    if root == None:\n",
    "        return 0 , True\n",
    "    lh , isLeftBalanced = getHeightAndIsBalanced(root.left)\n",
    "    rh , isRightBalanced = getHeightAndIsBalanced(root.right)\n",
    "    h = 1+max(lh,rh)\n",
    "    if (lh-rh)>1 or (rh-lh)>1:\n",
    "        return h,False\n",
    "    if isLeftBalanced and isRightBalanced:\n",
    "        return h,True\n",
    "    else:\n",
    "        return h,False\n",
    "    \n",
    "def isBalanced2(root):\n",
    "    h , isRootBalanced = getHeightAndIsBalanced(root)\n",
    "    return isRootBalanced"
   ]
  },
  {
   "cell_type": "code",
   "execution_count": 11,
   "metadata": {},
   "outputs": [
    {
     "data": {
      "text/plain": [
       "True"
      ]
     },
     "execution_count": 11,
     "metadata": {},
     "output_type": "execute_result"
    }
   ],
   "source": [
    "isBalanced2(bt1)"
   ]
  },
  {
   "cell_type": "markdown",
   "metadata": {},
   "source": [
    "## Diameter of a Binary tree"
   ]
  },
  {
   "cell_type": "code",
   "execution_count": 12,
   "metadata": {},
   "outputs": [],
   "source": [
    "def diameter(root):\n",
    "    if root == None:\n",
    "        return 0\n",
    "    opt1 = height(root.left)+height(root.right)\n",
    "    opt2 = diameter(root.left)\n",
    "    opt3 = diameter(root.right)\n",
    "    return max(opt1 , opt2 , opt3)"
   ]
  },
  {
   "cell_type": "code",
   "execution_count": 13,
   "metadata": {},
   "outputs": [
    {
     "data": {
      "text/plain": [
       "3"
      ]
     },
     "execution_count": 13,
     "metadata": {},
     "output_type": "execute_result"
    }
   ],
   "source": [
    "diameter(bt1)"
   ]
  },
  {
   "cell_type": "markdown",
   "metadata": {},
   "source": [
    "## Diameter of a Binary Tree ( Optimized )  "
   ]
  },
  {
   "cell_type": "code",
   "execution_count": 14,
   "metadata": {},
   "outputs": [],
   "source": [
    "def height2(root,ans):\n",
    "    if root == None:\n",
    "        return 0 \n",
    "    lh = height2(root.left , ans)\n",
    "    rh = height2(root.right , ans)\n",
    "    ans[0] = max(ans[0] ,rh+lh)\n",
    "    return 1 + max(rh,lh)\n",
    "\n",
    "def diameter2(root):\n",
    "    if root == None:\n",
    "        return 0\n",
    "    ans = [-99999999]\n",
    "    h = height2(root , ans)\n",
    "    return ans[0]"
   ]
  },
  {
   "cell_type": "code",
   "execution_count": 15,
   "metadata": {},
   "outputs": [
    {
     "data": {
      "text/plain": [
       "3"
      ]
     },
     "execution_count": 15,
     "metadata": {},
     "output_type": "execute_result"
    }
   ],
   "source": [
    "diameter2(bt1)"
   ]
  },
  {
   "cell_type": "code",
   "execution_count": 16,
   "metadata": {},
   "outputs": [],
   "source": [
    "class Height():\n",
    "    def __init(self):\n",
    "        self.h = 0\n",
    "        \n",
    "def diameterAndHeight(root , height):\n",
    "    lh  = Height()\n",
    "    rh = Height()\n",
    "    if root == None:\n",
    "        height.h = 0 \n",
    "        return 0\n",
    "    ld = diameterAndHeight(root.left , lh)\n",
    "    rd = diameterAndHeight(root.right , rh)\n",
    "    height.h = 1 + max(lh.h , rh.h)\n",
    "    return max(lh.h+rh.h , ld , rd )\n",
    "\n",
    "def diamter3(root):\n",
    "    n = Height()\n",
    "    return diameterAndHeight(root , n)"
   ]
  },
  {
   "cell_type": "code",
   "execution_count": 17,
   "metadata": {},
   "outputs": [
    {
     "data": {
      "text/plain": [
       "3"
      ]
     },
     "execution_count": 17,
     "metadata": {},
     "output_type": "execute_result"
    }
   ],
   "source": [
    "diamter3(bt1)"
   ]
  },
  {
   "cell_type": "markdown",
   "metadata": {},
   "source": [
    "## Levelwise input in a Binary Tree"
   ]
  },
  {
   "cell_type": "code",
   "execution_count": 18,
   "metadata": {},
   "outputs": [],
   "source": [
    "import queue\n",
    "\n",
    "def levelwiseInput():\n",
    "    q = queue.Queue()\n",
    "    print(\"Enter Root:\")\n",
    "    rootData = int(input())\n",
    "    if (rootData==-1):\n",
    "        return None\n",
    "    root = BinaryTreeNode(rootData)\n",
    "    q.put(root)\n",
    "    \n",
    "    while (not(q.empty())):\n",
    "        currentNode = q.get()\n",
    "        \n",
    "        print(\"Enter left child of\",currentNode.data)\n",
    "        leftChildData = int(input())\n",
    "        if(leftChildData!=-1):\n",
    "            leftChild = BinaryTreeNode(leftChildData)\n",
    "            currentNode.left = leftChild\n",
    "            q.put(leftChild)\n",
    "        \n",
    "        print(\"Enter right child of\",currentNode.data)\n",
    "        rightChildData = int(input())\n",
    "        if(rightChildData!=-1):\n",
    "            rightChild = BinaryTreeNode(rightChildData)\n",
    "            currentNode.right = rightChild\n",
    "            q.put(rightChild)\n",
    "            \n",
    "    return root"
   ]
  },
  {
   "cell_type": "code",
   "execution_count": 19,
   "metadata": {},
   "outputs": [
    {
     "name": "stdout",
     "output_type": "stream",
     "text": [
      "Enter Root:\n",
      "1\n",
      "Enter left child of 1\n",
      "2\n",
      "Enter right child of 1\n",
      "3\n",
      "Enter left child of 2\n",
      "4\n",
      "Enter right child of 2\n",
      "5\n",
      "Enter left child of 3\n",
      "-1\n",
      "Enter right child of 3\n",
      "-1\n",
      "Enter left child of 4\n",
      "-1\n",
      "Enter right child of 4\n",
      "-1\n",
      "Enter left child of 5\n",
      "-1\n",
      "Enter right child of 5\n",
      "-1\n",
      "1:L 2,R 3\n",
      "2:L 4,R 5\n",
      "4:\n",
      "5:\n",
      "3:\n"
     ]
    }
   ],
   "source": [
    "root = levelwiseInput()\n",
    "printTree(root)"
   ]
  },
  {
   "cell_type": "markdown",
   "metadata": {},
   "source": [
    "## Print Binary Tree in level wise order: "
   ]
  },
  {
   "cell_type": "code",
   "execution_count": 38,
   "metadata": {},
   "outputs": [],
   "source": [
    "def printLevelOrder(root):\n",
    "    if root == None:\n",
    "        return\n",
    "    queue = []\n",
    "    queue.append(root)\n",
    "    while len(queue)>0:\n",
    "        print(queue[0].data,end =\":\")\n",
    "        node = queue.pop(0)\n",
    "        if node.left != None:\n",
    "            queue.append(node.left)\n",
    "            print(\"L\",node.left.data,end=\",\")\n",
    "        if node.right != None:\n",
    "            queue.append(node.right)\n",
    "            print(\"R\",node.right.data,end=\"\")\n",
    "        print()"
   ]
  },
  {
   "cell_type": "code",
   "execution_count": 39,
   "metadata": {},
   "outputs": [
    {
     "name": "stdout",
     "output_type": "stream",
     "text": [
      "1:L 2,R 3\n",
      "2:L 4,R 5\n",
      "3:\n",
      "4:\n",
      "5:\n"
     ]
    }
   ],
   "source": [
    "printLevelOrder(bt1)"
   ]
  },
  {
   "cell_type": "markdown",
   "metadata": {},
   "source": [
    "## Inorder , preorder , postorder transversal "
   ]
  },
  {
   "cell_type": "code",
   "execution_count": 46,
   "metadata": {},
   "outputs": [],
   "source": [
    "def printInorder(root):\n",
    "    if root:\n",
    "        printInorder(root.left)\n",
    "        print(root.data)\n",
    "        printInorder(root.right)\n",
    "    \n",
    "def printPreorder(root):\n",
    "    if root:\n",
    "        print(root.data)\n",
    "        printPreorder(root.left)\n",
    "        printPreorder(root.right)\n",
    "    \n",
    "def printPostorder(root):\n",
    "    if root:\n",
    "        printPostorder(root.left)\n",
    "        printPostorder(root.right)\n",
    "        print(root.data)"
   ]
  },
  {
   "cell_type": "code",
   "execution_count": 47,
   "metadata": {
    "scrolled": true
   },
   "outputs": [
    {
     "name": "stdout",
     "output_type": "stream",
     "text": [
      "4\n",
      "2\n",
      "5\n",
      "1\n",
      "3\n"
     ]
    }
   ],
   "source": [
    "printInorder(bt1)"
   ]
  },
  {
   "cell_type": "markdown",
   "metadata": {},
   "source": [
    "## Inorder , Preorder , Postorder (stored as a list) "
   ]
  },
  {
   "cell_type": "code",
   "execution_count": 93,
   "metadata": {},
   "outputs": [],
   "source": [
    "\n",
    "def printInorder(root):\n",
    "    inorder = []\n",
    "    if root:\n",
    "        inorder = printInorder(root.left)\n",
    "        inorder.append(root.data)\n",
    "        inorder=inorder+ printInorder(root.right)\n",
    "    return inorder\n",
    "    \n",
    "def printPreorder(root):\n",
    "    preorder = []\n",
    "    if root:\n",
    "        preorder.append(root.data)\n",
    "        preorder+= printPreorder(root.left)\n",
    "        preorder+=printPreorder(root.right)\n",
    "    return preorder\n",
    "    \n",
    "def printPostorder(root):\n",
    "    postorder=[]\n",
    "    if root:\n",
    "        postorder+=printPostorder(root.left)\n",
    "        postorder+=printPostorder(root.right)\n",
    "        postorder.append(root.data)\n",
    "    return postorder"
   ]
  },
  {
   "cell_type": "code",
   "execution_count": 94,
   "metadata": {},
   "outputs": [
    {
     "data": {
      "text/plain": [
       "[4, 2, 5, 1, 3]"
      ]
     },
     "execution_count": 94,
     "metadata": {},
     "output_type": "execute_result"
    }
   ],
   "source": [
    "printInorder(bt1)"
   ]
  },
  {
   "cell_type": "code",
   "execution_count": 95,
   "metadata": {
    "scrolled": true
   },
   "outputs": [
    {
     "data": {
      "text/plain": [
       "[1, 2, 4, 5, 3]"
      ]
     },
     "execution_count": 95,
     "metadata": {},
     "output_type": "execute_result"
    }
   ],
   "source": [
    "printPreorder(bt1)"
   ]
  },
  {
   "cell_type": "code",
   "execution_count": 96,
   "metadata": {},
   "outputs": [
    {
     "data": {
      "text/plain": [
       "[4, 5, 2, 3, 1]"
      ]
     },
     "execution_count": 96,
     "metadata": {},
     "output_type": "execute_result"
    }
   ],
   "source": [
    "printPostorder(bt1)"
   ]
  },
  {
   "cell_type": "code",
   "execution_count": 97,
   "metadata": {},
   "outputs": [],
   "source": [
    "def printInorder2(root):\n",
    "    return (printInorder2(root.left) + [root.data] + printInorder2(root.right)) if root else []\n",
    "def printPreorder2(root):\n",
    "    return ([root.data] + printPreorder2(root.left) + printPreorder2(root.right)) if root else []\n",
    "def printPostorder2(root):\n",
    "    return (printPostorder2(root.left) + printPostorder2(root.right) + [root.data]) if root else []\n",
    "    "
   ]
  },
  {
   "cell_type": "code",
   "execution_count": 98,
   "metadata": {},
   "outputs": [
    {
     "data": {
      "text/plain": [
       "[4, 2, 5, 1, 3]"
      ]
     },
     "execution_count": 98,
     "metadata": {},
     "output_type": "execute_result"
    }
   ],
   "source": [
    "printInorder2(bt1)"
   ]
  },
  {
   "cell_type": "code",
   "execution_count": 99,
   "metadata": {},
   "outputs": [
    {
     "data": {
      "text/plain": [
       "[1, 2, 4, 5, 3]"
      ]
     },
     "execution_count": 99,
     "metadata": {},
     "output_type": "execute_result"
    }
   ],
   "source": [
    "printPreorder2(bt1)"
   ]
  },
  {
   "cell_type": "code",
   "execution_count": 100,
   "metadata": {},
   "outputs": [
    {
     "data": {
      "text/plain": [
       "[4, 5, 2, 3, 1]"
      ]
     },
     "execution_count": 100,
     "metadata": {},
     "output_type": "execute_result"
    }
   ],
   "source": [
    "printPostorder2(bt1)"
   ]
  },
  {
   "cell_type": "markdown",
   "metadata": {},
   "source": [
    "## Built a Binary Tree from Inorder and Preorder"
   ]
  },
  {
   "cell_type": "code",
   "execution_count": 52,
   "metadata": {},
   "outputs": [],
   "source": [
    "def builtTreeFromPreIn(pre , inorder):\n",
    "    if len(pre)==0:\n",
    "        return None\n",
    "    rootData = pre[0]\n",
    "    root = BinaryTreeNode(rootData)\n",
    "    rootIndexInInorder = -1\n",
    "    for i in range(0,len(inorder)):\n",
    "        if inorder[i]==rootData:\n",
    "            rootIndexInInorder = i\n",
    "            break\n",
    "    if rootIndexInInorder == -1:\n",
    "            return None\n",
    "    leftInorder = inorder[0:rootIndexInInorder]\n",
    "    rightInorder = inorder[rootIndexInInorder+1:]\n",
    "    \n",
    "    lenleftSubTree = len(leftInorder)\n",
    "    \n",
    "    leftPreorder = pre[1:lenleftSubTree+1]\n",
    "    rightPreorder = pre[lenleftSubTree+1:]\n",
    "    \n",
    "    leftchild = builtTreeFromPreIn(leftPreorder,leftInorder)\n",
    "    rightchild = builtTreeFromPreIn(rightPreorder,rightInorder)\n",
    "    \n",
    "    root.left = leftchild\n",
    "    root.right = rightchild\n",
    "    return root"
   ]
  },
  {
   "cell_type": "code",
   "execution_count": 53,
   "metadata": {},
   "outputs": [
    {
     "name": "stdout",
     "output_type": "stream",
     "text": [
      "1:L 2,R 3\n",
      "2:L 4,R 5\n",
      "4:\n",
      "5:\n",
      "3:L 6,R 7\n",
      "6:\n",
      "7:\n"
     ]
    }
   ],
   "source": [
    "inorder = [4,2,5,1,6,3,7]\n",
    "preorder = [1,2,4,5,3,6,7]\n",
    "root=builtTreeFromPreIn(preorder , inorder)\n",
    "printTree(root)"
   ]
  },
  {
   "cell_type": "code",
   "execution_count": 101,
   "metadata": {},
   "outputs": [
    {
     "name": "stdout",
     "output_type": "stream",
     "text": [
      "1:L 2,R 3\n",
      "2:L 4,R 5\n",
      "4:\n",
      "5:\n",
      "3:\n"
     ]
    }
   ],
   "source": [
    "pre = printPreorder(bt1)\n",
    "inorder = printInorder(bt1)\n",
    "root = builtTreeFromPreIn(pre , inorder)\n",
    "printTree(root)"
   ]
  },
  {
   "cell_type": "code",
   "execution_count": null,
   "metadata": {},
   "outputs": [],
   "source": []
  }
 ],
 "metadata": {
  "kernelspec": {
   "display_name": "Python 3",
   "language": "python",
   "name": "python3"
  },
  "language_info": {
   "codemirror_mode": {
    "name": "ipython",
    "version": 3
   },
   "file_extension": ".py",
   "mimetype": "text/x-python",
   "name": "python",
   "nbconvert_exporter": "python",
   "pygments_lexer": "ipython3",
   "version": "3.7.6"
  }
 },
 "nbformat": 4,
 "nbformat_minor": 4
}
