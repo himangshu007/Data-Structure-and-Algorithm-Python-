{
 "cells": [
  {
   "cell_type": "markdown",
   "metadata": {},
   "source": [
    "## Creating Binary Tree Node"
   ]
  },
  {
   "cell_type": "code",
   "execution_count": 1,
   "metadata": {},
   "outputs": [],
   "source": [
    "class BinaryTreeNode:\n",
    "    def __init__(self,data):\n",
    "        self.data = data \n",
    "        self.left = None\n",
    "        self.right = None"
   ]
  },
  {
   "cell_type": "markdown",
   "metadata": {},
   "source": [
    "## Creating a Binary tree"
   ]
  },
  {
   "cell_type": "code",
   "execution_count": 2,
   "metadata": {},
   "outputs": [],
   "source": [
    "bt1 = BinaryTreeNode(1)\n",
    "bt2 = BinaryTreeNode(2)\n",
    "bt3 = BinaryTreeNode(3)\n",
    "bt4 = BinaryTreeNode(4)\n",
    "bt5 = BinaryTreeNode(5)"
   ]
  },
  {
   "cell_type": "code",
   "execution_count": 3,
   "metadata": {},
   "outputs": [],
   "source": [
    "bt1.left = bt2 \n",
    "bt1.right = bt3\n",
    "bt2.left = bt4\n",
    "bt2.right = bt5"
   ]
  },
  {
   "cell_type": "markdown",
   "metadata": {},
   "source": [
    "## Function for printing a Binary Tree"
   ]
  },
  {
   "cell_type": "code",
   "execution_count": 4,
   "metadata": {},
   "outputs": [],
   "source": [
    "def printTree(root):\n",
    "    if root == None:\n",
    "        return\n",
    "    print(root.data , end=':')\n",
    "    if root.left!=None:\n",
    "        print('L', root.left.data , end=',')\n",
    "    if root.right!=None:\n",
    "        print('R', root.right.data , end=\"\")\n",
    "    print()\n",
    "    printTree(root.left)\n",
    "    printTree(root.right)"
   ]
  },
  {
   "cell_type": "code",
   "execution_count": 5,
   "metadata": {},
   "outputs": [
    {
     "name": "stdout",
     "output_type": "stream",
     "text": [
      "1:L 2,R 3\n",
      "2:L 4,R 5\n",
      "4:\n",
      "5:\n",
      "3:\n"
     ]
    }
   ],
   "source": [
    "printTree(bt1)"
   ]
  },
  {
   "cell_type": "markdown",
   "metadata": {},
   "source": [
    "##  Input of a Binary tree"
   ]
  },
  {
   "cell_type": "code",
   "execution_count": 6,
   "metadata": {},
   "outputs": [],
   "source": [
    "def treeInput():\n",
    "    rootData = int(input())\n",
    "    if rootData == -1:\n",
    "        return None\n",
    "    root = BinaryTreeNode(rootData)\n",
    "    leftTree = treeInput()\n",
    "    rightTree = treeInput()\n",
    "\n",
    "    root.left = leftTree\n",
    "    root.right = rightTree\n",
    "\n",
    "    return root\n",
    "    "
   ]
  },
  {
   "cell_type": "code",
   "execution_count": 7,
   "metadata": {
    "scrolled": true
   },
   "outputs": [
    {
     "name": "stdout",
     "output_type": "stream",
     "text": [
      "1\n",
      "2\n",
      "4\n",
      "-1\n",
      "-1\n",
      "5\n",
      "-1\n",
      "-1\n",
      "3\n",
      "-1\n",
      "-1\n",
      "\n",
      "The Binary Tree is:\n",
      "1:L 2,R 3\n",
      "2:L 4,R 5\n",
      "4:\n",
      "5:\n",
      "3:\n"
     ]
    }
   ],
   "source": [
    "root = treeInput()\n",
    "print()\n",
    "print('The Binary Tree is:')\n",
    "printTree(root)"
   ]
  },
  {
   "cell_type": "markdown",
   "metadata": {},
   "source": [
    "## No. of nodes in  binary tree:"
   ]
  },
  {
   "cell_type": "code",
   "execution_count": 8,
   "metadata": {},
   "outputs": [],
   "source": [
    "def numNodes(root):\n",
    "    if root == None:\n",
    "        return 0\n",
    "    leftcount = numNodes(root.left)\n",
    "    rightcount = numNodes(root.left)\n",
    "    return 1 + leftcount + rightcount"
   ]
  },
  {
   "cell_type": "code",
   "execution_count": 9,
   "metadata": {},
   "outputs": [
    {
     "name": "stdout",
     "output_type": "stream",
     "text": [
      "The Binary Tree is:\n",
      "1:L 2,R 3\n",
      "2:L 4,R 5\n",
      "4:\n",
      "5:\n",
      "3:\n",
      "\n",
      "The no. of nodes : 7\n"
     ]
    }
   ],
   "source": [
    "print('The Binary Tree is:')\n",
    "printTree(bt1)\n",
    "print()\n",
    "print('The no. of nodes :', numNodes(bt1))"
   ]
  },
  {
   "cell_type": "markdown",
   "metadata": {},
   "source": [
    "## Node with largest data:"
   ]
  },
  {
   "cell_type": "code",
   "execution_count": 10,
   "metadata": {},
   "outputs": [],
   "source": [
    "def largestData(root):\n",
    "    if root == None:\n",
    "        return -1\n",
    "    leftlargest= largestData(root.left)\n",
    "    rightlargest = largestData(root.right)\n",
    "    largest = max(leftlargest, rightlargest , root.data)\n",
    "    return largest"
   ]
  },
  {
   "cell_type": "code",
   "execution_count": 11,
   "metadata": {},
   "outputs": [
    {
     "name": "stdout",
     "output_type": "stream",
     "text": [
      "The Binary Tree is:\n",
      "1:L 2,R 3\n",
      "2:L 4,R 5\n",
      "4:\n",
      "5:\n",
      "3:\n",
      "\n",
      "The largest data is: 5\n"
     ]
    }
   ],
   "source": [
    "print('The Binary Tree is:')\n",
    "printTree(bt1)\n",
    "print()\n",
    "print('The largest data is:', largestData(bt1))"
   ]
  },
  {
   "cell_type": "markdown",
   "metadata": {},
   "source": [
    "## No. of leaf nodes"
   ]
  },
  {
   "cell_type": "code",
   "execution_count": 12,
   "metadata": {},
   "outputs": [],
   "source": [
    "def numLeafNodes(root):\n",
    "    if root.left == None and root.right == None:\n",
    "        return 1\n",
    "    if root == None:\n",
    "        return 0\n",
    "    numleafleft = numLeafNodes(root.left)\n",
    "    numleafright = numLeafNodes(root.right)\n",
    "    return numleafleft+numleafright"
   ]
  },
  {
   "cell_type": "code",
   "execution_count": 13,
   "metadata": {},
   "outputs": [
    {
     "name": "stdout",
     "output_type": "stream",
     "text": [
      "The Binary Tree is:\n",
      "1:L 2,R 3\n",
      "2:L 4,R 5\n",
      "4:\n",
      "5:\n",
      "3:\n",
      "\n",
      "The no. of leaf nodes : 3\n"
     ]
    }
   ],
   "source": [
    "print('The Binary Tree is:')\n",
    "printTree(bt1)\n",
    "print()\n",
    "print('The no. of leaf nodes :', numLeafNodes(bt1))"
   ]
  },
  {
   "cell_type": "markdown",
   "metadata": {},
   "source": [
    "## Print Nodes at depth k "
   ]
  },
  {
   "cell_type": "markdown",
   "metadata": {},
   "source": [
    "### Method 1"
   ]
  },
  {
   "cell_type": "code",
   "execution_count": 14,
   "metadata": {},
   "outputs": [],
   "source": [
    "def printDepthk_1(root , k):\n",
    "    if root == None:\n",
    "        return\n",
    "    if k ==0:\n",
    "        print(root.data)\n",
    "        return\n",
    "    printDepthk_1(root.left,k-1)\n",
    "    printDepthk_1(root.right, k-1)"
   ]
  },
  {
   "cell_type": "code",
   "execution_count": 15,
   "metadata": {},
   "outputs": [
    {
     "name": "stdout",
     "output_type": "stream",
     "text": [
      "The Binary Tree is:\n",
      "1:L 2,R 3\n",
      "2:L 4,R 5\n",
      "4:\n",
      "5:\n",
      "3:\n",
      "\n",
      "The nodes at depth k:\n",
      "4\n",
      "5\n"
     ]
    }
   ],
   "source": [
    "print('The Binary Tree is:')\n",
    "printTree(bt1)\n",
    "print()\n",
    "print('The nodes at depth k:')\n",
    "printDepthk_1(bt1,2)"
   ]
  },
  {
   "cell_type": "markdown",
   "metadata": {},
   "source": [
    "### Method 3"
   ]
  },
  {
   "cell_type": "code",
   "execution_count": 16,
   "metadata": {},
   "outputs": [],
   "source": [
    "def printDepthk_2(root,k,d=0):\n",
    "    if root ==None:\n",
    "        return\n",
    "    if k==d:\n",
    "        print(root.data)\n",
    "        return\n",
    "    printDepthk_2(root.left,k,d+1)\n",
    "    printDepthk_2(root.right,k,d+1)"
   ]
  },
  {
   "cell_type": "code",
   "execution_count": 17,
   "metadata": {},
   "outputs": [
    {
     "name": "stdout",
     "output_type": "stream",
     "text": [
      "The Binary Tree is:\n",
      "1:L 2,R 3\n",
      "2:L 4,R 5\n",
      "4:\n",
      "5:\n",
      "3:\n",
      "\n",
      "The nodes at depth k:\n",
      "4\n",
      "5\n"
     ]
    }
   ],
   "source": [
    "print('The Binary Tree is:')\n",
    "printTree(bt1)\n",
    "print()\n",
    "print('The nodes at depth k:')\n",
    "printDepthk_2(bt1,2,d=0)"
   ]
  },
  {
   "cell_type": "markdown",
   "metadata": {},
   "source": [
    "## Remove Leaves in Binary Tree: "
   ]
  },
  {
   "cell_type": "code",
   "execution_count": 20,
   "metadata": {},
   "outputs": [],
   "source": [
    "def removeLeaves(root):\n",
    "    if root == None:\n",
    "        return None\n",
    "    if root.left == None and root.right == None:\n",
    "        return None\n",
    "    root.left = removeLeaves(root.left)\n",
    "    root.right = removeLeaves(root.right)\n",
    "    return root"
   ]
  },
  {
   "cell_type": "code",
   "execution_count": 22,
   "metadata": {},
   "outputs": [],
   "source": [
    "bt1 = BinaryTreeNode(1)\n",
    "bt2 = BinaryTreeNode(2)\n",
    "bt3 = BinaryTreeNode(3)\n",
    "bt4 = BinaryTreeNode(4)\n",
    "bt5 = BinaryTreeNode(5)\n",
    "\n",
    "bt1.left = bt2 \n",
    "bt1.right = bt3\n",
    "bt2.left = bt4\n",
    "bt2.right = bt5"
   ]
  },
  {
   "cell_type": "code",
   "execution_count": 23,
   "metadata": {},
   "outputs": [
    {
     "name": "stdout",
     "output_type": "stream",
     "text": [
      "The Binary Tree is:\n",
      "1:L 2,R 3\n",
      "2:L 4,R 5\n",
      "4:\n",
      "5:\n",
      "3:\n",
      "\n",
      "The binary tree after removing the leaves:\n",
      "1:L 2,\n",
      "2:\n"
     ]
    }
   ],
   "source": [
    "print('The Binary Tree is:')\n",
    "printTree(bt1)\n",
    "print()\n",
    "print('The binary tree after removing the leaves:')\n",
    "removeLeaves(bt1)\n",
    "printTree(bt1)"
   ]
  },
  {
   "cell_type": "code",
   "execution_count": null,
   "metadata": {},
   "outputs": [],
   "source": []
  }
 ],
 "metadata": {
  "interpreter": {
   "hash": "18dab7a5492e4628bcf89fe58f896bdf97e50e1ee3618cdf22f24321de78bd6e"
  },
  "kernelspec": {
   "display_name": "Python 3",
   "language": "python",
   "name": "python3"
  },
  "language_info": {
   "codemirror_mode": {
    "name": "ipython",
    "version": 3
   },
   "file_extension": ".py",
   "mimetype": "text/x-python",
   "name": "python",
   "nbconvert_exporter": "python",
   "pygments_lexer": "ipython3",
   "version": "3.7.6"
  }
 },
 "nbformat": 4,
 "nbformat_minor": 2
}
