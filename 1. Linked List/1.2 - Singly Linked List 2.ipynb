{
 "cells": [
  {
   "cell_type": "code",
   "execution_count": 1,
   "metadata": {},
   "outputs": [],
   "source": [
    "class Node:\n",
    "    def __init__(self,data):\n",
    "        self.data = data \n",
    "        self.next = None"
   ]
  },
  {
   "cell_type": "code",
   "execution_count": 2,
   "metadata": {},
   "outputs": [],
   "source": [
    "def takeInput():\n",
    "    head = None\n",
    "    tail = None\n",
    "    inputlist = [int(ele) for ele in input().split()]\n",
    "    for currdata in inputlist:\n",
    "        if currdata == -1:\n",
    "            break \n",
    "        newNode = Node(currdata)\n",
    "        if head is None:\n",
    "            head = newNode\n",
    "            tail = newNode\n",
    "        else:\n",
    "            tail.next = newNode\n",
    "            tail=newNode\n",
    "    return head"
   ]
  },
  {
   "cell_type": "code",
   "execution_count": 3,
   "metadata": {},
   "outputs": [],
   "source": [
    "def printLL(head):\n",
    "    while head is not None:\n",
    "        print(str(head.data)+\"->\",end=\"\")\n",
    "        head = head.next\n",
    "    print(\"None\")\n",
    "    return"
   ]
  },
  {
   "cell_type": "code",
   "execution_count": 5,
   "metadata": {},
   "outputs": [
    {
     "name": "stdout",
     "output_type": "stream",
     "text": [
      "1 2 3 4 5 -1\n",
      "1->2->3->4->5->None\n"
     ]
    }
   ],
   "source": [
    "head = takeInput()\n",
    "printLL(head)"
   ]
  },
  {
   "cell_type": "code",
   "execution_count": 7,
   "metadata": {},
   "outputs": [
    {
     "name": "stdout",
     "output_type": "stream",
     "text": [
      "1->2->3->4->5->None\n"
     ]
    }
   ],
   "source": [
    "ll1 = Node(1)\n",
    "ll2 = Node(2)\n",
    "ll3 = Node(3)\n",
    "ll4 = Node(4)\n",
    "ll5 = Node(5)\n",
    "\n",
    "ll1.next = ll2 \n",
    "ll2.next = ll3 \n",
    "ll3.next = ll4\n",
    "ll4.next = ll5\n",
    "\n",
    "printLL(ll1)"
   ]
  },
  {
   "cell_type": "code",
   "execution_count": 10,
   "metadata": {},
   "outputs": [],
   "source": [
    "def lengthLL(head):\n",
    "    if head is None:\n",
    "        return 0\n",
    "    count = 0\n",
    "    curr = head\n",
    "    while curr is not None:\n",
    "        count += 1\n",
    "        curr = curr.next\n",
    "    return count"
   ]
  },
  {
   "cell_type": "code",
   "execution_count": 11,
   "metadata": {},
   "outputs": [
    {
     "data": {
      "text/plain": [
       "5"
      ]
     },
     "execution_count": 11,
     "metadata": {},
     "output_type": "execute_result"
    }
   ],
   "source": [
    "lengthLL(head)"
   ]
  },
  {
   "cell_type": "code",
   "execution_count": 20,
   "metadata": {},
   "outputs": [],
   "source": [
    "def midPointOfLL(head):\n",
    "    l = lengthLL(head)\n",
    "    if head is None:\n",
    "        return None\n",
    "    else:\n",
    "        if l%2 == 0:\n",
    "            mid = (l/2)-1\n",
    "        if l%2 ==1:\n",
    "            mid = (l-1)/2\n",
    "        curr = head\n",
    "        count = 0\n",
    "        while count < mid:\n",
    "            curr = curr.next\n",
    "            count +=1\n",
    "        return curr.data\n",
    "    \n",
    "    "
   ]
  },
  {
   "cell_type": "code",
   "execution_count": 21,
   "metadata": {},
   "outputs": [
    {
     "name": "stdout",
     "output_type": "stream",
     "text": [
      "1 2 3 4 5 -1\n",
      "1->2->3->4->5->None\n"
     ]
    },
    {
     "data": {
      "text/plain": [
       "3"
      ]
     },
     "execution_count": 21,
     "metadata": {},
     "output_type": "execute_result"
    }
   ],
   "source": [
    "head = takeInput()\n",
    "printLL(head)\n",
    "midPointOfLL(head)"
   ]
  },
  {
   "cell_type": "code",
   "execution_count": 29,
   "metadata": {},
   "outputs": [],
   "source": [
    "def findElement(head  , i):\n",
    "    if head is None:\n",
    "        return None\n",
    "    curr = head\n",
    "    count = 1\n",
    "    while count < i:\n",
    "        curr = curr.next\n",
    "        count += 1\n",
    "    return curr.data"
   ]
  },
  {
   "cell_type": "code",
   "execution_count": 30,
   "metadata": {},
   "outputs": [
    {
     "name": "stdout",
     "output_type": "stream",
     "text": [
      "1 2 3 4 5 -1\n",
      "1->2->3->4->5->None\n"
     ]
    },
    {
     "data": {
      "text/plain": [
       "3"
      ]
     },
     "execution_count": 30,
     "metadata": {},
     "output_type": "execute_result"
    }
   ],
   "source": [
    "head = takeInput()\n",
    "printLL(head)\n",
    "findElement(head , 3)"
   ]
  },
  {
   "cell_type": "code",
   "execution_count": 35,
   "metadata": {},
   "outputs": [],
   "source": [
    "def lengthLL(head):\n",
    "    if head is None:\n",
    "        return 0\n",
    "    curr = head\n",
    "    count = 0\n",
    "    while curr is not None:\n",
    "        curr = curr.next\n",
    "        count +=1\n",
    "    return count\n",
    "    \n",
    "def getNode(head, positionFromTail):\n",
    "    positionFromHead = lengthLL(head) - positionFromTail + 1\n",
    "    if head is None:\n",
    "        return None\n",
    "    curr = head\n",
    "    count = 1\n",
    "    while count < positionFromHead:\n",
    "        curr = curr.next\n",
    "        count += 1\n",
    "    return curr.data\n"
   ]
  },
  {
   "cell_type": "code",
   "execution_count": 38,
   "metadata": {},
   "outputs": [
    {
     "name": "stdout",
     "output_type": "stream",
     "text": [
      "1 2 3 4 5 -1\n",
      "1->2->3->4->5->None\n"
     ]
    },
    {
     "data": {
      "text/plain": [
       "1"
      ]
     },
     "execution_count": 38,
     "metadata": {},
     "output_type": "execute_result"
    }
   ],
   "source": [
    "head = takeInput()\n",
    "printLL(head)\n",
    "getNode(head , 6)"
   ]
  },
  {
   "cell_type": "code",
   "execution_count": 39,
   "metadata": {},
   "outputs": [],
   "source": [
    "def has_cycle(head):\n",
    "    if not head:\n",
    "        return 0\n",
    "    curr = head\n",
    "    while curr.next is not None:\n",
    "        curr = curr.next\n",
    "    if curr.data == head.data:\n",
    "        return 1\n",
    "    else:\n",
    "        return 0"
   ]
  },
  {
   "cell_type": "code",
   "execution_count": 40,
   "metadata": {},
   "outputs": [
    {
     "name": "stdout",
     "output_type": "stream",
     "text": [
      "1 2 3 4 1 -1\n",
      "1->2->3->4->1->None\n"
     ]
    },
    {
     "data": {
      "text/plain": [
       "1"
      ]
     },
     "execution_count": 40,
     "metadata": {},
     "output_type": "execute_result"
    }
   ],
   "source": [
    "head = takeInput()\n",
    "printLL(head)\n",
    "has_cycle(head)"
   ]
  },
  {
   "cell_type": "code",
   "execution_count": 44,
   "metadata": {},
   "outputs": [],
   "source": [
    "def has_cycle2(head):\n",
    "    if not head:\n",
    "        return 0\n",
    "    s = []\n",
    "    while head:\n",
    "        if head in s:\n",
    "            return 1\n",
    "        s.append(head)\n",
    "        head = head.next\n",
    "    return 0 "
   ]
  },
  {
   "cell_type": "code",
   "execution_count": 45,
   "metadata": {},
   "outputs": [
    {
     "name": "stdout",
     "output_type": "stream",
     "text": [
      "1 2 3 4 1 -1\n",
      "1->2->3->4->1->None\n"
     ]
    },
    {
     "data": {
      "text/plain": [
       "0"
      ]
     },
     "execution_count": 45,
     "metadata": {},
     "output_type": "execute_result"
    }
   ],
   "source": [
    "head = takeInput()\n",
    "printLL(head)\n",
    "has_cycle2(head)"
   ]
  },
  {
   "cell_type": "code",
   "execution_count": null,
   "metadata": {},
   "outputs": [],
   "source": []
  }
 ],
 "metadata": {
  "kernelspec": {
   "display_name": "Python 3",
   "language": "python",
   "name": "python3"
  },
  "language_info": {
   "codemirror_mode": {
    "name": "ipython",
    "version": 3
   },
   "file_extension": ".py",
   "mimetype": "text/x-python",
   "name": "python",
   "nbconvert_exporter": "python",
   "pygments_lexer": "ipython3",
   "version": "3.7.6"
  }
 },
 "nbformat": 4,
 "nbformat_minor": 4
}
